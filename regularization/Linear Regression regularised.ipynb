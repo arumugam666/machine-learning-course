{
 "cells": [
  {
   "cell_type": "code",
   "execution_count": 1,
   "metadata": {},
   "outputs": [],
   "source": [
    "from matplotlib import pyplot as plt\n",
    "import numpy as np    \n",
    "\n",
    "def abline(slope, intercept):\n",
    "    \"\"\"Plot a line from slope and intercept\"\"\"\n",
    "    axes = plt.gca()\n",
    "    \n",
    "    x_vals = np.array(axes.get_xlim())\n",
    "    y_vals = intercept + slope * x_vals\n",
    "    plt.plot(x_vals, y_vals, '--')"
   ]
  },
  {
   "cell_type": "code",
   "execution_count": 2,
   "metadata": {},
   "outputs": [],
   "source": [
    "# predicted y for all elements of dataset = X*theta\n",
    "# X - rows are data points\n",
    "# theta - column feature vector\n",
    "def hypothesis(X,theta):\n",
    "    return np.dot(X,theta)"
   ]
  },
  {
   "cell_type": "code",
   "execution_count": 3,
   "metadata": {},
   "outputs": [],
   "source": [
    "# initialise example\n",
    "data_x = np.array([1,2,3])\n",
    "data_y = np.array([1,2,2])\n",
    "\n",
    "# prepare X by appending an extra column of 1s to the begining\n",
    "m = len(data_x)\n",
    "x_0 = np.ones(m)\n",
    "X = np.column_stack((x_0,data_x))\n",
    "theta = np.array([0,10])"
   ]
  },
  {
   "cell_type": "code",
   "execution_count": 4,
   "metadata": {},
   "outputs": [],
   "source": [
    "# cost function writen as \n",
    "#    v = hypothesis(X,theta) - y :- results in a column vector with length equal to the number of data points \n",
    "#    J(theta) = (v' * v) / 2m\n",
    "def costFunction(X,theta,y,Lambda = 0):\n",
    "    v = hypothesis(X,theta)-y\n",
    "    regVec = theta[1:]\n",
    "    return ((np.dot(np.transpose(v),v))/(2*len(X)))+Lambda*np.dot(regVec,regVec)"
   ]
  },
  {
   "cell_type": "code",
   "execution_count": 5,
   "metadata": {},
   "outputs": [],
   "source": [
    "# gradients for each parameter writen as \n",
    "#    v = hypothesis(X,theta) - y :- results in a column vector with length equal to the number of data points\n",
    "#    gradient(theta) = (X' * v) / m\n",
    "def gradient(X,theta,y,Lambda = 0):\n",
    "    v = hypothesis(X,theta)-y\n",
    "    \n",
    "    reqThetaVec = np.ones(len(theta))\n",
    "    reqThetaVec[0] = 0\n",
    "    regularizedGradientComponent = reqThetaVec*theta*Lambda/len(X)\n",
    "#     print(regularizedGradientComponent)\n",
    "    return ((np.dot(np.transpose(X),v))/(len(X)))+regularizedGradientComponent"
   ]
  },
  {
   "cell_type": "code",
   "execution_count": 6,
   "metadata": {},
   "outputs": [
    {
     "name": "stdout",
     "output_type": "stream",
     "text": [
      "[1.49978867 0.08338946]\n"
     ]
    }
   ],
   "source": [
    "import copy\n",
    "\n",
    "# learning rate\n",
    "alpha = 0.01\n",
    "\n",
    "# Stopping threshold\n",
    "delta = 10**-6\n",
    "\n",
    "# initialised prev_cost\n",
    "prev_cost = 1000000\n",
    "\n",
    "while True:\n",
    "    \n",
    "    # stopping variable\n",
    "    endLoop = True\n",
    "    \n",
    "    # copy the previous theta vector\n",
    "    theta_prev = copy.deepcopy(theta)\n",
    "    \n",
    "    # call the cost function\n",
    "    cost = costFunction(X,theta,data_y,10)\n",
    "    gradients = gradient(X,theta,data_y,10)\n",
    "    \n",
    "    # ensure that we are moving in the right direction\n",
    "    if prev_cost<cost:\n",
    "        raise ValueError\n",
    "#     print(cost,gradients)\n",
    "    # reassign prev_cost to current cost\n",
    "    prev_cost = cost\n",
    "\n",
    "    theta = theta - alpha*gradients\n",
    "    \n",
    "    # check if the algorithm can terminate and terminate\n",
    "    if np.all(abs(theta - theta_prev)<delta):\n",
    "        break\n",
    "\n",
    "\n",
    "print(theta)"
   ]
  },
  {
   "cell_type": "code",
   "execution_count": 7,
   "metadata": {},
   "outputs": [
    {
     "data": {
      "image/png": "[encoded data removed]",
      "text/plain": [
       "<Figure size 432x288 with 1 Axes>"
      ]
     },
     "metadata": {
      "needs_background": "light"
     },
     "output_type": "display_data"
    }
   ],
   "source": [
    "plt.plot(data_x,data_y, 'ro')\n",
    "abline(theta[1],theta[0])\n",
    "axes = plt.gca()\n",
    "axes.set(xlim=(0, 4), ylim=(0, 4))\n",
    "plt.show()"
   ]
  },
  {
   "cell_type": "code",
   "execution_count": null,
   "metadata": {},
   "outputs": [],
   "source": []
  }
 ],
 "metadata": {
  "kernelspec": {
   "display_name": "Python 3",
   "language": "python",
   "name": "python3"
  },
  "language_info": {
   "codemirror_mode": {
    "name": "ipython",
    "version": 3
   },
   "file_extension": ".py",
   "mimetype": "text/x-python",
   "name": "python",
   "nbconvert_exporter": "python",
   "pygments_lexer": "ipython3",
   "version": "3.7.6"
  }
 },
 "nbformat": 4,
 "nbformat_minor": 4
}
