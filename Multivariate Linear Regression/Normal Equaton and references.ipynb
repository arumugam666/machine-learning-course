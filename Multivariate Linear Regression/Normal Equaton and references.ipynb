{
 "cells": [
  {
   "cell_type": "code",
   "execution_count": 2,
   "metadata": {},
   "outputs": [],
   "source": [
    "from matplotlib import pyplot as plt\n",
    "import numpy as np    \n",
    "\n",
    "def abline(slope, intercept):\n",
    "    \"\"\"Plot a line from slope and intercept\"\"\"\n",
    "    axes = plt.gca()\n",
    "    \n",
    "    x_vals = np.array(axes.get_xlim())\n",
    "    y_vals = intercept + slope * x_vals\n",
    "    plt.plot(x_vals, y_vals, '--')\n",
    "    \n",
    "    \n"
   ]
  },
  {
   "cell_type": "code",
   "execution_count": 3,
   "metadata": {},
   "outputs": [],
   "source": [
    "data = [(1,1),(2,2),(3,2)]\n",
    "num_features = 1\n",
    "# data is of the form (x,y)"
   ]
  },
  {
   "cell_type": "code",
   "execution_count": 3,
   "metadata": {},
   "outputs": [],
   "source": [
    "# now we will attempt to fit a line y = mx + c\n",
    "# now let us represent the data in the form of a matrix equation\n",
    "# c + m = 1\n",
    "# c + 2m = 2\n",
    "# c + 3m = 2\n",
    "# [ 1 1 ] * [ c ] = [ 1 ]\n",
    "# [ 1 2 ]   [ m ]   [ 2 ]\n",
    "# [ 1 3 ]           [ 2 ]\n",
    "\n",
    "# Ax = b\n",
    "\n",
    "# as we can clearly see, this equation is not consistent.\n",
    "# we will find an approximate solution to this equation by projecting b onto the column space of A.\n",
    "\n",
    "# for referecence: https://www.youtube.com/watch?v=Y_Ac6KiQ1t0 and the following lecture"
   ]
  },
  {
   "cell_type": "code",
   "execution_count": 4,
   "metadata": {},
   "outputs": [],
   "source": [
    "# constructing A\n",
    "height = len(data)\n",
    "width = num_features + 1\n",
    "A = np.zeros((height,width))\n",
    "for x in range(width):\n",
    "    if x == 0:\n",
    "        for y in range(height):\n",
    "            A[y,x] = 1\n",
    "    else:\n",
    "        for y in range(height):\n",
    "            A[y,x] = data[y][x-1]\n",
    "            \n",
    "# constructing b\n",
    "b = np.zeros((height,1))\n",
    "for x in range(height):\n",
    "    b[x] = data[x][-1]"
   ]
  },
  {
   "cell_type": "code",
   "execution_count": 5,
   "metadata": {},
   "outputs": [],
   "source": [
    "# use the formula \n",
    "#  P = A(inv(A'.A))A'\n",
    "# p = P.b\n",
    "# xHat = ((inv(A'.A))A')b\n",
    "\n",
    "P = np.dot(np.dot(A,np.linalg.pinv(np.dot(np.transpose(A),A))),np.transpose(A))\n",
    "xHat = np.dot(np.dot(np.linalg.pinv(np.dot(np.transpose(A),A)),np.transpose(A)),b)\n",
    "p = np.dot(P,b)"
   ]
  },
  {
   "cell_type": "code",
   "execution_count": 6,
   "metadata": {},
   "outputs": [
    {
     "name": "stdout",
     "output_type": "stream",
     "text": [
      "[[1.16666667]\n",
      " [1.66666667]\n",
      " [2.16666667]]\n",
      "[[0.66666667]\n",
      " [0.5       ]]\n"
     ]
    }
   ],
   "source": [
    "print(p)\n",
    "print(xHat)"
   ]
  },
  {
   "cell_type": "code",
   "execution_count": 7,
   "metadata": {},
   "outputs": [],
   "source": [
    "x_vals = [x for x,y in data]\n",
    "y_vals = [y for x,y in data]"
   ]
  },
  {
   "cell_type": "code",
   "execution_count": 8,
   "metadata": {},
   "outputs": [
    {
     "data": {
      "image/png": "[encoded data removed]",
      "text/plain": [
       "<Figure size 432x288 with 1 Axes>"
      ]
     },
     "metadata": {
      "needs_background": "light"
     },
     "output_type": "display_data"
    }
   ],
   "source": [
    "plt.plot(x_vals,y_vals, 'ro')\n",
    "abline(xHat[1],xHat[0])\n",
    "axes = plt.gca()\n",
    "axes.set(xlim=(0, 4), ylim=(0, 4))\n",
    "plt.show()"
   ]
  },
  {
   "cell_type": "code",
   "execution_count": null,
   "metadata": {},
   "outputs": [],
   "source": []
  }
 ],
 "metadata": {
  "kernelspec": {
   "display_name": "Python 3",
   "language": "python",
   "name": "python3"
  },
  "language_info": {
   "codemirror_mode": {
    "name": "ipython",
    "version": 3
   },
   "file_extension": ".py",
   "mimetype": "text/x-python",
   "name": "python",
   "nbconvert_exporter": "python",
   "pygments_lexer": "ipython3",
   "version": "3.7.6"
  }
 },
 "nbformat": 4,
 "nbformat_minor": 4
}
