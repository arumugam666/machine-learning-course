{
 "cells": [
  {
   "cell_type": "code",
   "execution_count": 1,
   "metadata": {},
   "outputs": [],
   "source": [
    "from matplotlib import pyplot as plt\n",
    "import numpy as np    \n",
    "\n",
    "def abline(slope, intercept):\n",
    "    \"\"\"Plot a line from slope and intercept\"\"\"\n",
    "    axes = plt.gca()\n",
    "    \n",
    "    x_vals = np.array(axes.get_xlim())\n",
    "    y_vals = intercept + slope * x_vals\n",
    "    plt.plot(x_vals, y_vals, '--')"
   ]
  },
  {
   "cell_type": "code",
   "execution_count": 2,
   "metadata": {},
   "outputs": [],
   "source": [
    "# predicted y for all elements of dataset = X*theta\n",
    "# X - rows are data points\n",
    "# theta - column feature vector\n",
    "\n",
    "def sigmoid(x):\n",
    "    return 1/(1+np.exp(-x))\n",
    "\n",
    "\n",
    "def hypothesis(X,theta):\n",
    "    return sigmoid(np.dot(X,theta))"
   ]
  },
  {
   "cell_type": "code",
   "execution_count": null,
   "metadata": {},
   "outputs": [],
   "source": []
  },
  {
   "cell_type": "code",
   "execution_count": 3,
   "metadata": {},
   "outputs": [],
   "source": [
    "# initialise example\n",
    "data_x = np.array([[0,1,2,4,5,6],[2,1,0,2,1,0]])\n",
    "data_x = np.transpose(data_x)\n",
    "data_y = np.array([0,0,0,1,1,1])\n",
    "\n",
    "# prepare X by appending an extra column of 1s to the begining\n",
    "m = len(data_x)\n",
    "x_0 = np.ones(m)\n",
    "X = np.column_stack((x_0,data_x))\n",
    "theta = np.array([0,0,0])"
   ]
  },
  {
   "cell_type": "code",
   "execution_count": 4,
   "metadata": {},
   "outputs": [
    {
     "data": {
      "text/plain": [
       "array([[1., 0., 2.],\n",
       "       [1., 1., 1.],\n",
       "       [1., 2., 0.],\n",
       "       [1., 4., 2.],\n",
       "       [1., 5., 1.],\n",
       "       [1., 6., 0.]])"
      ]
     },
     "execution_count": 4,
     "metadata": {},
     "output_type": "execute_result"
    }
   ],
   "source": [
    "X"
   ]
  },
  {
   "cell_type": "code",
   "execution_count": 5,
   "metadata": {},
   "outputs": [
    {
     "data": {
      "text/plain": [
       "array([-0.69314718, -0.69314718, -0.69314718, -0.69314718, -0.69314718,\n",
       "       -0.69314718])"
      ]
     },
     "execution_count": 5,
     "metadata": {},
     "output_type": "execute_result"
    }
   ],
   "source": [
    "np.log(hypothesis(X,theta))"
   ]
  },
  {
   "cell_type": "code",
   "execution_count": 51,
   "metadata": {},
   "outputs": [],
   "source": [
    "def costFunction(X,theta,y):\n",
    "    h = hypothesis(X,theta)\n",
    "    return -np.dot(np.log(h),y)+np.dot(np.log(1-h),(1-y))/len(X)"
   ]
  },
  {
   "cell_type": "code",
   "execution_count": 52,
   "metadata": {},
   "outputs": [],
   "source": [
    "# gradients for each parameter writen as \n",
    "#    v = hypothesis(X,theta) - y :- results in a column vector with length equal to the number of data points\n",
    "#    gradient(theta) = (X' * v) / m\n",
    "def gradient(X,theta,y):\n",
    "    v = hypothesis(X,theta)-y\n",
    "    return (np.dot(np.transpose(X),v))/(len(X))"
   ]
  },
  {
   "cell_type": "code",
   "execution_count": 53,
   "metadata": {},
   "outputs": [
    {
     "data": {
      "text/plain": [
       "array([ 0.0010855 , -0.00027063, -0.00027276])"
      ]
     },
     "execution_count": 53,
     "metadata": {},
     "output_type": "execute_result"
    }
   ],
   "source": [
    "gradient(X,theta,data_y)"
   ]
  },
  {
   "cell_type": "code",
   "execution_count": 60,
   "metadata": {},
   "outputs": [
    {
     "name": "stdout",
     "output_type": "stream",
     "text": [
      "[-23.97719519   6.35237439   5.39783058]\n"
     ]
    }
   ],
   "source": [
    "import copy\n",
    "\n",
    "# learning rate\n",
    "alpha = 0.5\n",
    "\n",
    "# Stopping threshold\n",
    "delta = 10**-6\n",
    "\n",
    "# initialised prev_cost\n",
    "prev_cost = 1000000\n",
    "\n",
    "while True:\n",
    "    \n",
    "    # stopping variable\n",
    "    endLoop = True\n",
    "    \n",
    "    # copy the previous theta vector\n",
    "    theta_prev = copy.deepcopy(theta)\n",
    "    \n",
    "    # call the cost function\n",
    "    cost = costFunction(X,theta,data_y)\n",
    "    gradients = gradient(X,theta,data_y)\n",
    "    # ensure that we are moving in the right direction\n",
    "    if prev_cost<cost:\n",
    "        raise ValueError\n",
    "    \n",
    "    # reassign prev_cost to current cost\n",
    "    prev_cost = cost\n",
    "\n",
    "    theta = theta - alpha*gradients\n",
    "    \n",
    "    # check if the algorithm can terminate and terminate\n",
    "    if np.all(abs(theta - theta_prev)<delta):\n",
    "        break\n",
    "\n",
    "\n",
    "print(theta)"
   ]
  },
  {
   "cell_type": "code",
   "execution_count": 63,
   "metadata": {},
   "outputs": [
    {
     "data": {
      "text/plain": [
       "4.249996745633031e-06"
      ]
     },
     "execution_count": 63,
     "metadata": {},
     "output_type": "execute_result"
    }
   ],
   "source": [
    "costFunction(X,theta,data_y)"
   ]
  },
  {
   "cell_type": "code",
   "execution_count": 59,
   "metadata": {},
   "outputs": [
    {
     "data": {
      "text/plain": [
       "array([0.11920292, 0.11920292, 0.11920292, 0.88079708, 0.88079708,\n",
       "       0.88079708])"
      ]
     },
     "execution_count": 59,
     "metadata": {},
     "output_type": "execute_result"
    }
   ],
   "source": [
    "hypothesis(X,np.array([np.inf,1,1]))"
   ]
  },
  {
   "cell_type": "code",
   "execution_count": null,
   "metadata": {},
   "outputs": [],
   "source": []
  }
 ],
 "metadata": {
  "kernelspec": {
   "display_name": "Python 3",
   "language": "python",
   "name": "python3"
  },
  "language_info": {
   "codemirror_mode": {
    "name": "ipython",
    "version": 3
   },
   "file_extension": ".py",
   "mimetype": "text/x-python",
   "name": "python",
   "nbconvert_exporter": "python",
   "pygments_lexer": "ipython3",
   "version": "3.7.6"
  }
 },
 "nbformat": 4,
 "nbformat_minor": 4
}
